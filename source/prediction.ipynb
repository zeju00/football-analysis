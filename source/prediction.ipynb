{
 "cells": [
  {
   "cell_type": "markdown",
   "metadata": {},
   "source": [
    "# European Big 5 Football League Match Results for 3 Years and its Analysis"
   ]
  },
  {
   "cell_type": "markdown",
   "metadata": {},
   "source": [
    " This file shows European big 5 football league match results and its analysis. First of all, we have to use preprocessed dataset from previous procedure. Preprocessed files have seperated data by year, so we have to combine them by league. Also, there are players' performance index files based on ranking for Forward and Midfielder. These files are grouped by team, the value for team is average performance index of players."
   ]
  },
  {
   "cell_type": "markdown",
   "metadata": {},
   "source": [
    "Secondly, we will find top 10 teams for each league, then there will be heatmap for top 10 teams that is representing match result for 3 years between them. To get more meaningful information, we will adopt linear regression to understand linear correlation between difference of performance index and match result. At last, there will be a final heatmap for top 10 teams. Let's get started."
   ]
  },
  {
   "cell_type": "markdown",
   "metadata": {},
   "source": [
    "# Combine Seperated .csv files by League"
   ]
  },
  {
   "cell_type": "code",
   "execution_count": null,
   "metadata": {
    "vscode": {
     "languageId": "plaintext"
    }
   },
   "outputs": [],
   "source": [
    "# Import pandas and os module to handle csv files and dataset\n",
    "import pandas as pd\n",
    "import os\n",
    "\n",
    "# Directory path where CSV files are saved\n",
    "directory_path = '/content/'\n",
    "\n",
    "# Read all CSV files in one list\n",
    "csv_files = [os.path.join(directory_path, file) for file in os.listdir(directory_path) if file.endswith('.csv')]\n",
    "\n",
    "# Sort files by league\n",
    "pl_files = []\n",
    "laliga_files = []\n",
    "seria_files = []\n",
    "bundes_files = []\n",
    "ligue1_files = []\n",
    "\n",
    "for file in csv_files:\n",
    "    if file.startswith('/content/pl'):\n",
    "        pl_files.append(os.path.join(directory_path, file))\n",
    "    elif file.startswith('/content/laliga'):\n",
    "        laliga_files.append(os.path.join(directory_path, file))\n",
    "    elif file.startswith('/content/seria'):\n",
    "        seria_files.append(os.path.join(directory_path, file))\n",
    "    elif file.startswith('/content/bundes'):\n",
    "        bundes_files.append(os.path.join(directory_path, file))\n",
    "    elif file.startswith('/content/ligue1'):\n",
    "        ligue1_files.append(os.path.join(directory_path, file))\n",
    "\n",
    "\n",
    "# Generate empty DataFrame\n",
    "pl_df = pd.DataFrame()\n",
    "laliga_df = pd.DataFrame()\n",
    "seria_df = pd.DataFrame()\n",
    "bundes_df = pd.DataFrame()\n",
    "ligue1_df = pd.DataFrame()\n",
    "\n",
    "# Read each CSV file and add it to DataFrame\n",
    "for file in pl_files: # for PL\n",
    "    df = pd.read_csv(file)\n",
    "    pl_df = pd.concat([pl_df, df], ignore_index=True)\n",
    "\n",
    "for file in laliga_files: # for LaLiga\n",
    "    df = pd.read_csv(file)\n",
    "    laliga_df = pd.concat([laliga_df, df], ignore_index=True)\n",
    "\n",
    "for file in seria_files: # for Serie A\n",
    "    df = pd.read_csv(file)\n",
    "    seria_df = pd.concat([seria_df, df], ignore_index=True)\n",
    "\n",
    "for file in bundes_files: # for Bundesliga\n",
    "    df = pd.read_csv(file)\n",
    "    bundes_df = pd.concat([bundes_df, df], ignore_index=True)\n",
    "\n",
    "for file in ligue1_files: # for Ligue1\n",
    "    df = pd.read_csv(file)\n",
    "    ligue1_df = pd.concat([ligue1_df, df], ignore_index=True)\n",
    "\n",
    "# Save DataFrame for each league in csv file to backup\n",
    "pl_df.to_csv('n_pl_output.csv', index=False)\n",
    "laliga_df.to_csv('n_laliga_output.csv', index=False)\n",
    "seria_df.to_csv('n_seria_output.csv', index=False)\n",
    "bundes_df.to_csv('n_bundes_output.csv', index=False)\n",
    "ligue1_df.to_csv('n_ligue1_output.csv', index=False)"
   ]
  },
  {
   "cell_type": "markdown",
   "metadata": {},
   "source": [
    "# Using Heatmap"
   ]
  },
  {
   "cell_type": "code",
   "execution_count": null,
   "metadata": {
    "vscode": {
     "languageId": "plaintext"
    }
   },
   "outputs": [],
   "source": [
    "# Import seaborn and matplolib module to use heatmap\n",
    "import seaborn as sns\n",
    "import matplotlib.pyplot as plt\n",
    "\n",
    "# Function to create heatmap\n",
    "def create_heatmap(team_results):\n",
    "    df = pd.DataFrame(team_results, columns=['Team', 'Opponent', 'Result'])\n",
    "    '''\n",
    "    'Team' for y axis, 'Opponent' for x axis, 'Result' for value at the point\n",
    "    '''\n",
    "    df_pivot = df.pivot_table(index='Team', columns='Opponent', values='Result')\n",
    "    plt.figure(figsize=(12, 8))\n",
    "    sns.heatmap(df_pivot, annot=True, cmap='coolwarm', cbar=True, linewidths=.5)\n",
    "    plt.title('Team Results Heatmap')\n",
    "    plt.show()\n"
   ]
  },
  {
   "cell_type": "markdown",
   "metadata": {},
   "source": [
    "# Finding Top 10 Teams"
   ]
  },
  {
   "cell_type": "markdown",
   "metadata": {},
   "source": [
    "After finding top 10 teams, first we will create heatmap between top 10 teams. Although this heatmap can show correlation or the most powerful team among 10 teams, we still need more certain visualization or relation between them. So we will adopt linear regression. The purpose of this regression is to understand correlation between difference of performance index and result. We start with hypothesis that there is a proportional relationship between difference of performance index and result. For other words, the larger difference of performance index, the bigger result."
   ]
  },
  {
   "cell_type": "markdown",
   "metadata": {},
   "source": [
    "Since the methodology for each league is same, so implementation detailed explanation will only be in Premier League section by comment."
   ]
  },
  {
   "cell_type": "markdown",
   "metadata": {},
   "source": [
    "# Premier League"
   ]
  },
  {
   "cell_type": "markdown",
   "metadata": {},
   "source": [
    "First step: Find top 10 teams in PL"
   ]
  },
  {
   "cell_type": "code",
   "execution_count": null,
   "metadata": {
    "vscode": {
     "languageId": "plaintext"
    }
   },
   "outputs": [],
   "source": [
    "# find top 10 teams\n",
    "pl_teams = [] # which team is member of PL\n",
    "# the member of this list can be different from another season because there is promotion & relegation\n",
    "\n",
    "pl_total = {} # Team(key), sum of result for 3 years(value)\n",
    "\n",
    "# iterate row by row through dataframe\n",
    "for index, row in pl_df.iterrows():\n",
    "    team = row['Team']\n",
    "    result = row['Result']\n",
    "\n",
    "    if team not in pl_total: # first referencing of team\n",
    "        pl_total[team] = result # add to dictionary with value\n",
    "        pl_teams.append(team) # be the member of PL\n",
    "    else: # after first reference\n",
    "        pl_total[team] += result # just increment result\n",
    "\n",
    "# convert dictionary to dataframe\n",
    "pl_total_df = pd.DataFrame(list(pl_total.items()), columns=['Team', 'Total'])\n",
    "# sort by descending order\n",
    "pl_total_df = pl_total_df.sort_values(by='Total', ascending=False)\n",
    "# extract top 10 elements\n",
    "pl_top_10 = pl_total_df.head(10)\n",
    "# record top 10 teams' name in list\n",
    "pl_top_10_teams = pl_top_10['Team'].tolist()\n",
    "\n",
    "print(pl_top_10)"
   ]
  },
  {
   "cell_type": "markdown",
   "metadata": {},
   "source": [
    "Step two: Extract matches between top 10 teams and generate initial heatmap"
   ]
  },
  {
   "cell_type": "markdown",
   "metadata": {},
   "source": [
    "Initial heatmap represents average of 'Goal for - Goal against' for each team. If the value is negative or the block is colored blue, that team has poor performance against respective opponent. That is, the team's expected win probability is low for that opponent."
   ]
  },
  {
   "cell_type": "code",
   "execution_count": null,
   "metadata": {
    "vscode": {
     "languageId": "plaintext"
    }
   },
   "outputs": [],
   "source": [
    "# generate list to record matches\n",
    "pl_top_10_match = []\n",
    "# iterate row by row throught dataframe\n",
    "for index, row in pl_df.iterrows():\n",
    "    # extract data from each row\n",
    "    team = row['Team']\n",
    "    opponent = row['Opponent']\n",
    "    result = row['Result']\n",
    "    # check if the match is top 10 teams' game\n",
    "    if team in pl_top_10_teams and opponent in pl_top_10_teams:\n",
    "        # append to list as dictionary\n",
    "        pl_top_10_match.append({'Team': team, 'Opponent': opponent, 'Result': result})\n",
    "\n",
    "# convert list of dictionaries to dataframe\n",
    "pl_top_10_match_df = pd.DataFrame(pl_top_10_match)\n",
    "print(pl_top_10_match_df)\n",
    "\n",
    "# generate heatmap\n",
    "create_heatmap(pl_top_10_match_df)"
   ]
  },
  {
   "cell_type": "markdown",
   "metadata": {},
   "source": [
    "For more reliable statistics, we want to adopt linear regression based on performance index for each team. We're offering 'FW.csv', and 'MF.csv' that have average performance index of the team. Just sum up them to get the team's FW+MF average performance index."
   ]
  },
  {
   "cell_type": "code",
   "execution_count": null,
   "metadata": {
    "vscode": {
     "languageId": "plaintext"
    }
   },
   "outputs": [],
   "source": [
    "# read csv file and make them up to dataframe\n",
    "fw_df = pd.DataFrame()\n",
    "fw_df = pd.read_csv('FW.csv')\n",
    "mf_df = pd.DataFrame()\n",
    "mf_df = pd.read_csv('MF.csv')\n",
    "\n",
    "# to handle both dataframes at one file, concatenate them at FW dataframe\n",
    "fw_df = pd.concat([fw_df, mf_df], ignore_index=True)\n",
    "\n",
    "# save in new file to back up data\n",
    "fw_df.to_csv('n_fw_df.csv', index=False)\n",
    "\n",
    "# this process is to treat abbreviation\n",
    "for i in range(len(pl_teams)):\n",
    "    if pl_teams[i] == 'Brighton & Hove Albion':\n",
    "        pl_teams[i] = 'Brighton'\n",
    "    elif pl_teams[i] == 'Manchester United':\n",
    "        pl_teams[i] = 'Manchester Utd'\n",
    "    elif pl_teams[i] == 'Newcastle United':\n",
    "        pl_teams[i] = 'Newcastle Utd'\n",
    "    elif pl_teams[i] == 'Wolverhampton Wanderers':\n",
    "        pl_teams[i] = 'Wolves'\n",
    "    elif pl_teams[i] == 'Tottenham Hotspur':\n",
    "        pl_teams[i] = 'Tottenham'\n",
    "    elif pl_teams[i] == 'West Ham United':\n",
    "        pl_teams[i] = 'West Ham'\n",
    "    elif pl_teams[i] == 'Sheffield United':\n",
    "        pl_teams[i] = 'Sheffield'\n",
    "\n",
    "# generate empty dictionary to save (team: score)\n",
    "pl_scores = {}\n",
    "# iterate row by row throught dataframe\n",
    "for index, row in fw_df.iterrows():\n",
    "    team = row['Team']\n",
    "    score = row['Total_score']\n",
    "    # this process is to treat abbreviation\n",
    "    if team in pl_teams:\n",
    "        if team not in pl_scores: # first referencing team\n",
    "            if team == 'Brighton':\n",
    "                team = 'Brighton & Hove Albion'\n",
    "            elif team == 'Manchester Utd':\n",
    "                team = 'Manchester United'\n",
    "            elif team == 'Newcastle Utd':\n",
    "                team = 'Newcastle United'\n",
    "            elif team == 'Wolves':\n",
    "                team = 'Wolverhampton Wanderers'\n",
    "            elif team == 'Tottenham':\n",
    "                team = 'Tottenham Hotspur'\n",
    "            elif team == 'West Ham':\n",
    "                team = 'West Ham United'\n",
    "            elif team == 'Sheffield':\n",
    "                team = 'Sheffield United'\n",
    "            pl_scores[team] = score # add key: value to dictionary\n",
    "        elif team in pl_scores: # after first referencing\n",
    "            pl_scores[team] += score # just increment score\n",
    "        else:\n",
    "            '''\n",
    "            if there is no proper team name\n",
    "             or team is not in top 10\n",
    "            '''\n",
    "            pl_scores[team] = 0 # score set to 0\n",
    "\n",
    "print(pl_scores)"
   ]
  },
  {
   "cell_type": "code",
   "execution_count": null,
   "metadata": {
    "vscode": {
     "languageId": "plaintext"
    }
   },
   "outputs": [],
   "source": [
    "# add Difference attribute to original dataframe\n",
    "# generate empty dictionary list\n",
    "pl_diff = []\n",
    "# iterate row by row through dataframe\n",
    "for index, row in pl_df.iterrows():\n",
    "    # extract data from row\n",
    "    team = row['Team']\n",
    "    opponent = row['Opponent']\n",
    "    result = row['Result']\n",
    "    '''\n",
    "    there can occur error because there may be no performance index\n",
    "    for a team. For that exception, set score to 0\n",
    "    '''\n",
    "    try: # t_score is team score\n",
    "        t_score = pl_scores[team]\n",
    "    except:\n",
    "        t_score = 0\n",
    "    try: # o_score is opponent score\n",
    "        o_score = pl_scores[opponent]\n",
    "    except:\n",
    "        o_score = 0\n",
    "    # substract opponent score value from team score value\n",
    "    diff = t_score - o_score\n",
    "    # append to dictionary list\n",
    "    pl_diff.append({'Team': team, 'Opponent': opponent, 'Result': result, 'Difference': diff})\n",
    "\n",
    "# convert list of dictionary to dataframe\n",
    "pl_diff_df = pd.DataFrame(pl_diff)\n",
    "print(pl_diff_df)"
   ]
  },
  {
   "cell_type": "markdown",
   "metadata": {},
   "source": [
    "# Adopting Linear Regression"
   ]
  },
  {
   "cell_type": "markdown",
   "metadata": {},
   "source": [
    "For reliable or accurate prediction, we decided to adopt linear regression. From hypothesis at the beginning that there may be exist proportional relation between average performance index and result, additionally, by applying linear regression model, we can analyze or interpret the result only based on team's average performance index."
   ]
  },
  {
   "cell_type": "code",
   "execution_count": null,
   "metadata": {
    "vscode": {
     "languageId": "plaintext"
    }
   },
   "outputs": [],
   "source": [
    "# import modules to use linear regression\n",
    "from sklearn.linear_model import LinearRegression\n",
    "from sklearn.metrics import mean_squared_error, r2_score\n",
    "\n",
    "# set difference of average performance index at x axis\n",
    "X = pl_diff_df['Difference'].values.reshape(-1, 1)\n",
    "# set result of match at y axis\n",
    "y = pl_diff_df['Result'].values\n",
    "\n",
    "'''\n",
    " set linear regression model and fit x and y\n",
    " and display plot\n",
    " '''\n",
    "model = LinearRegression()\n",
    "model.fit(X, y)\n",
    "\n",
    "y_pred = model.predict(X)\n",
    "\n",
    "print(f'Slope: {model.coef_[0]}')\n",
    "print(f'Intercept: {model.intercept_}')\n",
    "\n",
    "plt.scatter(X, y, color='blue', label='Actual Results')\n",
    "plt.plot(X, y_pred, color='red', linewidth=2, label='Regression Line')\n",
    "plt.xlabel('Difference')\n",
    "plt.ylabel('Result')\n",
    "plt.title('Linear Regression: Difference vs Result')\n",
    "plt.legend()\n",
    "plt.show()\n",
    "\n",
    "mse = mean_squared_error(y, y_pred)\n",
    "r2 = r2_score(y, y_pred)\n",
    "print(f'Mean Squared Error: {mse}')\n",
    "print(f'R^2: {r2}')"
   ]
  },
  {
   "cell_type": "markdown",
   "metadata": {},
   "source": [
    "There exists proportional relation between difference of performance index and result.(reliability=14.9%) Then we can generate heatmap again and analyze it."
   ]
  },
  {
   "cell_type": "code",
   "execution_count": null,
   "metadata": {
    "vscode": {
     "languageId": "plaintext"
    }
   },
   "outputs": [],
   "source": [
    "# generate empty dictionary list\n",
    "pl_top_10_diff = []\n",
    "# iterate row by row through dataframe\n",
    "for index, row in pl_diff_df.iterrows():\n",
    "    # extract data from row\n",
    "    team = row['Team']\n",
    "    opponent = row['Opponent']\n",
    "    result = row['Result']\n",
    "    diff = row['Difference']\n",
    "    # if the team is in top 10\n",
    "    if team in pl_top_10_teams and opponent in pl_top_10_teams:\n",
    "        pl_top_10_diff.append({'Team': team, 'Opponent': opponent, 'Result': result, 'Difference': diff})\n",
    "# convert list of dictionary to dataframe\n",
    "pl_top_10_diff_df = pd.DataFrame(pl_top_10_diff)\n",
    "\n",
    "# generate empty dictionary list\n",
    "pl_regression = []\n",
    "# iterate row by row through dataframe\n",
    "for index, row in pl_top_10_diff_df.iterrows():\n",
    "    # extract data from row\n",
    "    team = row['Team']\n",
    "    opponent = row['Opponent']\n",
    "    # apply linear regression model\n",
    "    result = row['Difference'] * 0.10839458716281687 - 0.016503697009748065\n",
    "    diff = row['Difference']\n",
    "    pl_regression.append({'Team': team, 'Opponent': opponent, 'Result': result, 'Difference': diff})\n",
    "pl_regression_df = pd.DataFrame(pl_regression)\n",
    "print(pl_regression_df)\n",
    "\n",
    "# generate heatmap\n",
    "create_heatmap(pl_regression_df)"
   ]
  },
  {
   "cell_type": "markdown",
   "metadata": {},
   "source": [
    "From final heatmap, how can we interprete the heatmap? Value inside the block represents the goal difference gained against opponent based on regression model. For example, Man City may win Arsenal by gaining 0.64 goal difference per match based on player's performance. Then we can get some insights from this heatmap."
   ]
  },
  {
   "cell_type": "markdown",
   "metadata": {},
   "source": [
    "# LaLiga"
   ]
  },
  {
   "cell_type": "code",
   "execution_count": null,
   "metadata": {
    "vscode": {
     "languageId": "plaintext"
    }
   },
   "outputs": [],
   "source": [
    "laliga_teams = []\n",
    "laliga_total = {}\n",
    "for index, row in laliga_df.iterrows():\n",
    "    team = row['Team']\n",
    "    if team == 'Almería':\n",
    "        team = 'Almeria'\n",
    "    result = row['Result']\n",
    "\n",
    "    if team not in laliga_total:\n",
    "        laliga_total[team] = result\n",
    "        laliga_teams.append(team)\n",
    "    else:\n",
    "        laliga_total[team] += result\n",
    "\n",
    "laliga_total_df = pd.DataFrame(list(laliga_total.items()), columns=['Team', 'Total'])\n",
    "laliga_total_df = laliga_total_df.sort_values(by='Total', ascending=False)\n",
    "laliga_top_10 = laliga_total_df.head(10)\n",
    "laliga_top_10_teams = laliga_top_10['Team'].tolist()\n",
    "\n",
    "print(laliga_top_10)\n",
    "laliga_top_10_match = []\n",
    "for index, row in laliga_df.iterrows():\n",
    "    team = row['Team']\n",
    "    if team == 'Almería':\n",
    "        team = 'Almeria'\n",
    "    opponent = row['Opponent']\n",
    "    result = row['Result']\n",
    "    #print(team, opponent, result)\n",
    "    if team in laliga_top_10_teams and opponent in laliga_top_10_teams:\n",
    "        laliga_top_10_match.append({'Team': team, 'Opponent': opponent, 'Result': result})\n",
    "\n",
    "laliga_top_10_match_df = pd.DataFrame(laliga_top_10_match)\n",
    "print(laliga_top_10_match_df)\n",
    "laliga_top_10_match_df.to_csv('llg.csv', index=False)\n",
    "\n",
    "create_heatmap(laliga_top_10_match_df)"
   ]
  },
  {
   "cell_type": "code",
   "execution_count": null,
   "metadata": {
    "vscode": {
     "languageId": "plaintext"
    }
   },
   "outputs": [],
   "source": [
    "laliga_scores = {}\n",
    "\n",
    "for index, row in fw_df.iterrows():\n",
    "    team = row['Team']\n",
    "    score = row['Total_score']\n",
    "    if team in laliga_teams:\n",
    "        if team not in laliga_scores:\n",
    "            laliga_scores[team] = score\n",
    "        elif team in laliga_scores:\n",
    "            laliga_scores[team] += score\n",
    "        else:\n",
    "            laliga_scores[team] = 0\n",
    "\n",
    "#pl_scores_df = pd.DataFrame(pl_scores)\n",
    "print(laliga_scores)\n",
    "\n",
    "laliga_diff = []\n",
    "for index, row in laliga_df.iterrows():\n",
    "    team = row['Team']\n",
    "    opponent = row['Opponent']\n",
    "    result = row['Result']\n",
    "    try:\n",
    "        t_score = laliga_scores[team]\n",
    "    except:\n",
    "        t_score = 0\n",
    "    try:\n",
    "        o_score = laliga_scores[opponent]\n",
    "    except:\n",
    "        o_score = 0\n",
    "    diff = t_score - o_score\n",
    "    laliga_diff.append({'Team': team, 'Opponent': opponent, 'Result': result, 'Difference': diff})\n",
    "\n",
    "laliga_diff_df = pd.DataFrame(laliga_diff)\n",
    "print(laliga_diff_df)\n",
    "\n",
    "X = laliga_diff_df['Difference'].values.reshape(-1, 1)\n",
    "y = laliga_diff_df['Result'].values\n",
    "\n",
    "model = LinearRegression()\n",
    "model.fit(X, y)\n",
    "\n",
    "y_pred = model.predict(X)\n",
    "\n",
    "print(f'Slope: {model.coef_[0]}')\n",
    "print(f'Intercept: {model.intercept_}')\n",
    "\n",
    "plt.scatter(X, y, color='blue', label='Actual Results')\n",
    "plt.plot(X, y_pred, color='red', linewidth=2, label='Regression Line')\n",
    "plt.xlabel('Difference')\n",
    "plt.ylabel('Result')\n",
    "plt.title('Linear Regression: Difference vs Result')\n",
    "plt.legend()\n",
    "plt.show()\n",
    "\n",
    "mse = mean_squared_error(y, y_pred)\n",
    "r2 = r2_score(y, y_pred)\n",
    "print(f'Mean Squared Error: {mse}')\n",
    "print(f'R^2: {r2}')"
   ]
  },
  {
   "cell_type": "code",
   "execution_count": null,
   "metadata": {
    "vscode": {
     "languageId": "plaintext"
    }
   },
   "outputs": [],
   "source": [
    "laliga_top_10_diff = []\n",
    "for index, row in laliga_diff_df.iterrows():\n",
    "    team = row['Team']\n",
    "    if team == 'Alméria':\n",
    "        team = 'Almeria'\n",
    "    opponent = row['Opponent']\n",
    "    result = row['Result']\n",
    "    diff = row['Difference']\n",
    "    if team in laliga_top_10_teams and opponent in laliga_top_10_teams:\n",
    "        laliga_top_10_diff.append({'Team': team, 'Opponent': opponent, 'Result': result, 'Difference': diff})\n",
    "laliga_top_10_diff_df = pd.DataFrame(laliga_top_10_diff)\n",
    "#print(pl_top_10_diff_df)\n",
    "\n",
    "laliga_regression = []\n",
    "for index, row in laliga_top_10_diff_df.iterrows():\n",
    "    team = row['Team']\n",
    "    if team == 'Alméria':\n",
    "        team = 'Almeria'\n",
    "    opponent = row['Opponent']\n",
    "    result = row['Difference'] * 0.07362812079023387 + 0.019190633528563643\n",
    "    diff = row['Difference']\n",
    "    laliga_regression.append({'Team': team, 'Opponent': opponent, 'Result': result, 'Difference': diff})\n",
    "laliga_regression_df = pd.DataFrame(laliga_regression)\n",
    "print(laliga_regression_df)\n",
    "create_heatmap(laliga_regression_df)"
   ]
  },
  {
   "cell_type": "markdown",
   "metadata": {},
   "source": [
    "# Serie A"
   ]
  },
  {
   "cell_type": "code",
   "execution_count": null,
   "metadata": {
    "vscode": {
     "languageId": "plaintext"
    }
   },
   "outputs": [],
   "source": [
    "seria_teams = []\n",
    "seria_total = {}\n",
    "for index, row in seria_df.iterrows():\n",
    "    team = row['Team']\n",
    "    result = row['Result']\n",
    "    if team not in seria_total:\n",
    "        seria_total[team] = result\n",
    "        seria_teams.append(team)\n",
    "    else:\n",
    "        seria_total[team] += result\n",
    "\n",
    "seria_total_df = pd.DataFrame(list(seria_total.items()), columns=['Team', 'Total'])\n",
    "seria_total_df = seria_total_df.sort_values(by='Total', ascending=False)\n",
    "seria_top_10 = seria_total_df.head(10)\n",
    "seria_top_10_teams = seria_top_10['Team'].tolist()\n",
    "\n",
    "print(seria_top_10)\n",
    "seria_top_10_match = []\n",
    "for index, row in seria_df.iterrows():\n",
    "    team = row['Team']\n",
    "    opponent = row['Opponent']\n",
    "    result = row['Result']\n",
    "    #print(team, opponent, result)\n",
    "    if team in seria_top_10_teams and opponent in seria_top_10_teams:\n",
    "        seria_top_10_match.append({'Team': team, 'Opponent': opponent, 'Result': result})\n",
    "\n",
    "seria_top_10_match_df = pd.DataFrame(seria_top_10_match)\n",
    "print(seria_top_10_match_df)\n",
    "\n",
    "create_heatmap(seria_top_10_match_df)"
   ]
  },
  {
   "cell_type": "code",
   "execution_count": null,
   "metadata": {
    "vscode": {
     "languageId": "plaintext"
    }
   },
   "outputs": [],
   "source": [
    "seria_scores = {}\n",
    "print(seria_teams)\n",
    "for index, row in fw_df.iterrows():\n",
    "    team = row['Team']\n",
    "    score = row['Total_score']\n",
    "    if team in seria_teams:\n",
    "        if team not in seria_scores:\n",
    "            seria_scores[team] = score\n",
    "        elif team in seria_scores:\n",
    "            seria_scores[team] += score\n",
    "        else:\n",
    "            seria_scores[team] = 0\n",
    "\n",
    "#pl_scores_df = pd.DataFrame(pl_scores)\n",
    "print(seria_scores)\n",
    "\n",
    "seria_diff = []\n",
    "for index, row in seria_df.iterrows():\n",
    "    team = row['Team']\n",
    "    opponent = row['Opponent']\n",
    "    result = row['Result']\n",
    "    try:\n",
    "        t_score = seria_scores[team]\n",
    "    except:\n",
    "        t_score = 0\n",
    "    try:\n",
    "        o_score = seria_scores[opponent]\n",
    "    except:\n",
    "        o_score = 0\n",
    "    diff = t_score - o_score\n",
    "    seria_diff.append({'Team': team, 'Opponent': opponent, 'Result': result, 'Difference': diff})\n",
    "\n",
    "seria_diff_df = pd.DataFrame(seria_diff)\n",
    "print(seria_diff_df)\n",
    "\n",
    "X = seria_diff_df['Difference'].values.reshape(-1, 1)\n",
    "y = seria_diff_df['Result'].values\n",
    "\n",
    "model = LinearRegression()\n",
    "model.fit(X, y)\n",
    "\n",
    "y_pred = model.predict(X)\n",
    "\n",
    "print(f'Slope: {model.coef_[0]}')\n",
    "print(f'Intercept: {model.intercept_}')\n",
    "\n",
    "plt.scatter(X, y, color='blue', label='Actual Results')\n",
    "plt.plot(X, y_pred, color='red', linewidth=2, label='Regression Line')\n",
    "plt.xlabel('Difference')\n",
    "plt.ylabel('Result')\n",
    "plt.title('Linear Regression: Difference vs Result')\n",
    "plt.legend()\n",
    "plt.show()\n",
    "\n",
    "mse = mean_squared_error(y, y_pred)\n",
    "r2 = r2_score(y, y_pred)\n",
    "print(f'Mean Squared Error: {mse}')\n",
    "print(f'R^2: {r2}')"
   ]
  },
  {
   "cell_type": "code",
   "execution_count": null,
   "metadata": {
    "vscode": {
     "languageId": "plaintext"
    }
   },
   "outputs": [],
   "source": [
    "seria_top_10_diff = []\n",
    "for index, row in seria_diff_df.iterrows():\n",
    "    team = row['Team']\n",
    "    opponent = row['Opponent']\n",
    "    result = row['Result']\n",
    "    diff = row['Difference']\n",
    "    if team in seria_top_10_teams and opponent in seria_top_10_teams:\n",
    "        seria_top_10_diff.append({'Team': team, 'Opponent': opponent, 'Result': result, 'Difference': diff})\n",
    "seria_top_10_diff_df = pd.DataFrame(seria_top_10_diff)\n",
    "#print(pl_top_10_diff_df)\n",
    "X = seria_top_10_diff_df['Difference'].values.reshape(-1, 1)\n",
    "y = seria_top_10_diff_df['Result'].values\n",
    "\n",
    "model = LinearRegression()\n",
    "model.fit(X, y)\n",
    "\n",
    "y_pred = model.predict(X)\n",
    "\n",
    "print(f'회귀 계수 (Slope): {model.coef_[0]}')\n",
    "print(f'절편 (Intercept): {model.intercept_}')\n",
    "\n",
    "plt.scatter(X, y, color='blue', label='Actual Results')\n",
    "plt.plot(X, y_pred, color='red', linewidth=2, label='Regression Line')\n",
    "plt.xlabel('Difference')\n",
    "plt.ylabel('Result')\n",
    "plt.title('Linear Regression: Difference vs Result')\n",
    "plt.legend()\n",
    "plt.show()\n",
    "\n",
    "mse = mean_squared_error(y, y_pred)\n",
    "r2 = r2_score(y, y_pred)\n",
    "print(f'평균 제곱 오차 (MSE): {mse}')\n",
    "print(f'결정 계수 (R^2): {r2}')\n",
    "\n",
    "seria_regression = []\n",
    "for index, row in seria_top_10_diff_df.iterrows():\n",
    "    team = row['Team']\n",
    "    opponent = row['Opponent']\n",
    "    result = row['Difference'] * -0.03496405196203219\n",
    "    diff = row['Difference']\n",
    "    seria_regression.append({'Team': team, 'Opponent': opponent, 'Result': result, 'Difference': diff})\n",
    "seria_regression_df = pd.DataFrame(seria_regression)\n",
    "print(seria_regression_df)\n",
    "create_heatmap(seria_regression_df)"
   ]
  },
  {
   "cell_type": "markdown",
   "metadata": {},
   "source": [
    "# Bundesliga"
   ]
  },
  {
   "cell_type": "code",
   "execution_count": null,
   "metadata": {
    "vscode": {
     "languageId": "plaintext"
    }
   },
   "outputs": [],
   "source": [
    "bundes_teams = []\n",
    "bundes_total = {}\n",
    "for index, row in bundes_df.iterrows():\n",
    "    team = row['Team']\n",
    "    result = row['Result']\n",
    "    if team not in bundes_total:\n",
    "        bundes_total[team] = result\n",
    "        bundes_teams.append(team)\n",
    "    else:\n",
    "        bundes_total[team] += result\n",
    "\n",
    "bundes_total_df = pd.DataFrame(list(bundes_total.items()), columns=['Team', 'Total'])\n",
    "bundes_total_df = bundes_total_df.sort_values(by='Total', ascending=False)\n",
    "bundes_top_10 = bundes_total_df.head(10)\n",
    "bundes_top_10_teams = bundes_top_10['Team'].tolist()\n",
    "#print(bundes_teams)\n",
    "print(bundes_top_10)\n",
    "bundes_top_10_match = []\n",
    "for index, row in bundes_df.iterrows():\n",
    "    team = row['Team']\n",
    "    if team == '1. FC Union Berlin':\n",
    "        team = 'Union Berlin'\n",
    "    opponent = row['Opponent']\n",
    "    result = row['Result']\n",
    "    #print(team, opponent, result)\n",
    "    if team in bundes_top_10_teams and opponent in bundes_top_10_teams:\n",
    "        bundes_top_10_match.append({'Team': team, 'Opponent': opponent, 'Result': result})\n",
    "\n",
    "bundes_top_10_match_df = pd.DataFrame(bundes_top_10_match)\n",
    "print(bundes_top_10_match_df)\n",
    "bundes_top_10_match_df.to_csv('bnd.csv', index=False)\n",
    "\n",
    "create_heatmap(bundes_top_10_match_df)"
   ]
  },
  {
   "cell_type": "code",
   "execution_count": null,
   "metadata": {
    "vscode": {
     "languageId": "plaintext"
    }
   },
   "outputs": [],
   "source": [
    "bundes_scores = {}\n",
    "print(bundes_teams)\n",
    "for index, row in fw_df.iterrows():\n",
    "    team = row['Team']\n",
    "    #print(team)\n",
    "    score = row['Total_score']\n",
    "    if team == 'Augsburg':\n",
    "        team = 'FC Augsburg'\n",
    "    elif team == 'Dortmund':\n",
    "        team = 'Borussia Dortmund'\n",
    "    elif team == 'Eintracht':\n",
    "        team = 'Eintracht Frankfurt'\n",
    "    elif team == 'Freiburg':\n",
    "        team = 'SC Freiburg'\n",
    "    elif team == 'Hoffenheim':\n",
    "        team = 'TSG Hoffenheim'\n",
    "    elif team == 'Leverkusen':\n",
    "        team = 'Bayer Leverkusen'\n",
    "    elif team == 'Mainz 04':\n",
    "        team = 'Mainz'\n",
    "    elif team == 'Stuttgart':\n",
    "        team = 'VfB Stuttgart'\n",
    "    elif team == 'Wolfsburg':\n",
    "        team = 'VfL Wolfsburg'\n",
    "    elif team == 'Bochum':\n",
    "        team = 'VfL Bochum'\n",
    "    elif team == 'Cologne':\n",
    "        team = 'FC Cologne'\n",
    "    elif team == 'Monchengladbach':\n",
    "        team = 'Borussia Monchengladbach'\n",
    "    elif team == 'Darmstadt':\n",
    "        team = 'SV Darmstadt 98'\n",
    "    elif team == '1. Union Berlin':\n",
    "        team = 'Union Berlin'\n",
    "    if team in bundes_teams:\n",
    "        #print(team)\n",
    "        if team not in bundes_scores:\n",
    "            bundes_scores[team] = score\n",
    "        elif team in bundes_scores:\n",
    "            bundes_scores[team] += score\n",
    "        else:\n",
    "            bundes_scores[team] = 0\n",
    "\n",
    "#pl_scores_df = pd.DataFrame(pl_scores)\n",
    "print(bundes_scores)\n",
    "\n",
    "bundes_diff = []\n",
    "for index, row in bundes_df.iterrows():\n",
    "    team = row['Team']\n",
    "    opponent = row['Opponent']\n",
    "    result = row['Result']\n",
    "    try:\n",
    "        t_score = bundes_scores[team]\n",
    "    except:\n",
    "        t_score = 0\n",
    "    try:\n",
    "        o_score = bundes_scores[opponent]\n",
    "    except:\n",
    "        o_score = 0\n",
    "    diff = t_score - o_score\n",
    "    bundes_diff.append({'Team': team, 'Opponent': opponent, 'Result': result, 'Difference': diff})\n",
    "\n",
    "bundes_diff_df = pd.DataFrame(bundes_diff)\n",
    "print(bundes_diff_df)\n",
    "\n",
    "X = bundes_diff_df['Difference'].values.reshape(-1, 1)\n",
    "y = bundes_diff_df['Result'].values\n",
    "\n",
    "model = LinearRegression()\n",
    "model.fit(X, y)\n",
    "\n",
    "y_pred = model.predict(X)\n",
    "\n",
    "print(f'Slope: {model.coef_[0]}')\n",
    "print(f'Intercept: {model.intercept_}')\n",
    "\n",
    "plt.scatter(X, y, color='blue', label='Actual Results')\n",
    "plt.plot(X, y_pred, color='red', linewidth=2, label='Regression Line')\n",
    "plt.xlabel('Difference')\n",
    "plt.ylabel('Result')\n",
    "plt.title('Linear Regression: Difference vs Result')\n",
    "plt.legend()\n",
    "plt.show()\n",
    "\n",
    "mse = mean_squared_error(y, y_pred)\n",
    "r2 = r2_score(y, y_pred)\n",
    "print(f'Mean Sqaured Error: {mse}')\n",
    "print(f'R^2: {r2}')"
   ]
  },
  {
   "cell_type": "code",
   "execution_count": null,
   "metadata": {
    "vscode": {
     "languageId": "plaintext"
    }
   },
   "outputs": [],
   "source": [
    "bundes_top_10_diff = []\n",
    "for index, row in bundes_diff_df.iterrows():\n",
    "    team = row['Team']\n",
    "    opponent = row['Opponent']\n",
    "    if opponent == '1. Union Berlin':\n",
    "        opponent = 'Union Berlin'\n",
    "    result = row['Result']\n",
    "    diff = row['Difference']\n",
    "    if team in bundes_top_10_teams and opponent in bundes_top_10_teams:\n",
    "        bundes_top_10_diff.append({'Team': team, 'Opponent': opponent, 'Result': result, 'Difference': diff})\n",
    "bundes_top_10_diff_df = pd.DataFrame(bundes_top_10_diff)\n",
    "#print(pl_top_10_diff_df)\n",
    "\n",
    "bundes_regression = []\n",
    "for index, row in bundes_top_10_diff_df.iterrows():\n",
    "    team = row['Team']\n",
    "    opponent = row['Opponent']\n",
    "    if opponent == '1. Union Berlin':\n",
    "        opponent = 'Union Berlin'\n",
    "    result = row['Difference'] * 0.07080012976267884 - 0.006425186815792003\n",
    "    diff = row['Difference']\n",
    "    bundes_regression.append({'Team': team, 'Opponent': opponent, 'Result': result, 'Difference': diff})\n",
    "bundes_regression_df = pd.DataFrame(bundes_regression)\n",
    "print(bundes_regression_df)\n",
    "create_heatmap(bundes_regression_df)"
   ]
  },
  {
   "cell_type": "markdown",
   "metadata": {},
   "source": [
    "# Ligue 1"
   ]
  },
  {
   "cell_type": "code",
   "execution_count": null,
   "metadata": {
    "vscode": {
     "languageId": "plaintext"
    }
   },
   "outputs": [],
   "source": [
    "ligue1_teams = []\n",
    "ligue1_total = {}\n",
    "for index, row in ligue1_df.iterrows():\n",
    "    team = row['Team']\n",
    "    result = row['Result']\n",
    "    if team not in ligue1_total:\n",
    "        ligue1_total[team] = result\n",
    "        ligue1_teams.append(team)\n",
    "    else:\n",
    "        ligue1_total[team] += result\n",
    "\n",
    "ligue1_total_df = pd.DataFrame(list(ligue1_total.items()), columns=['Team', 'Total'])\n",
    "ligue1_total_df = ligue1_total_df.sort_values(by='Total', ascending=False)\n",
    "ligue1_top_10 = ligue1_total_df.head(10)\n",
    "ligue1_top_10_teams = ligue1_top_10['Team'].tolist()\n",
    "\n",
    "print(ligue1_top_10)\n",
    "ligue1_top_10_match = []\n",
    "for index, row in ligue1_df.iterrows():\n",
    "    team = row['Team']\n",
    "    if team == 'Monaco':\n",
    "        team = \"AS Monaco\"\n",
    "    opponent = row['Opponent']\n",
    "    result = row['Result']\n",
    "    #print(team, opponent, result)\n",
    "    if team in ligue1_top_10_teams and opponent in ligue1_top_10_teams:\n",
    "        ligue1_top_10_match.append({'Team': team, 'Opponent': opponent, 'Result': result})\n",
    "\n",
    "ligue1_top_10_match_df = pd.DataFrame(ligue1_top_10_match)\n",
    "print(ligue1_top_10_match_df)\n",
    "\n",
    "create_heatmap(ligue1_top_10_match_df)"
   ]
  },
  {
   "cell_type": "code",
   "execution_count": null,
   "metadata": {
    "vscode": {
     "languageId": "plaintext"
    }
   },
   "outputs": [],
   "source": [
    "ligue1_scores = {}\n",
    "print(ligue1_teams)\n",
    "for index, row in fw_df.iterrows():\n",
    "    team = row['Team']\n",
    "    #print(team)\n",
    "    score = row['Total_score']\n",
    "    if team == 'Monaco':\n",
    "        team = 'AS Monaco'\n",
    "    elif team == 'Paris S-G':\n",
    "        team = 'Paris Saint-Germain'\n",
    "    elif team == 'Montpellier HSC':\n",
    "        team = 'Montpellier'\n",
    "\n",
    "    if team in ligue1_teams:\n",
    "        #print(team)\n",
    "        if team not in ligue1_scores:\n",
    "            ligue1_scores[team] = score\n",
    "        elif team in ligue1_scores:\n",
    "            ligue1_scores[team] += score\n",
    "        else:\n",
    "            ligue1_scores[team] = 0\n",
    "\n",
    "#pl_scores_df = pd.DataFrame(pl_scores)\n",
    "print(ligue1_scores)\n",
    "\n",
    "ligue1_diff = []\n",
    "for index, row in ligue1_df.iterrows():\n",
    "    team = row['Team']\n",
    "    opponent = row['Opponent']\n",
    "    result = row['Result']\n",
    "    try:\n",
    "        t_score = ligue1_scores[team]\n",
    "    except:\n",
    "        t_score = 0\n",
    "    try:\n",
    "        o_score = ligue1_scores[opponent]\n",
    "    except:\n",
    "        o_score = 0\n",
    "    diff = t_score - o_score\n",
    "    ligue1_diff.append({'Team': team, 'Opponent': opponent, 'Result': result, 'Difference': diff})\n",
    "\n",
    "ligue1_diff_df = pd.DataFrame(ligue1_diff)\n",
    "print(ligue1_diff_df)\n",
    "\n",
    "X = ligue1_diff_df['Difference'].values.reshape(-1, 1)\n",
    "y = ligue1_diff_df['Result'].values\n",
    "\n",
    "model = LinearRegression()\n",
    "model.fit(X, y)\n",
    "\n",
    "y_pred = model.predict(X)\n",
    "\n",
    "print(f'Slope: {model.coef_[0]}')\n",
    "print(f'Intercept: {model.intercept_}')\n",
    "\n",
    "plt.scatter(X, y, color='blue', label='Actual Results')\n",
    "plt.plot(X, y_pred, color='red', linewidth=2, label='Regression Line')\n",
    "plt.xlabel('Difference')\n",
    "plt.ylabel('Result')\n",
    "plt.title('Linear Regression: Difference vs Result')\n",
    "plt.legend()\n",
    "plt.show()\n",
    "\n",
    "mse = mean_squared_error(y, y_pred)\n",
    "r2 = r2_score(y, y_pred)\n",
    "print(f'Mean Sqaured Error: {mse}')\n",
    "print(f'R^2: {r2}')"
   ]
  },
  {
   "cell_type": "code",
   "execution_count": null,
   "metadata": {
    "vscode": {
     "languageId": "plaintext"
    }
   },
   "outputs": [],
   "source": [
    "ligue1_top_10_diff = []\n",
    "for index, row in ligue1_diff_df.iterrows():\n",
    "    team = row['Team']\n",
    "    if team == 'Monaco':\n",
    "        team = 'AS Monaco'\n",
    "    opponent = row['Opponent']\n",
    "    result = row['Result']\n",
    "    diff = row['Difference']\n",
    "    if team in ligue1_top_10_teams and opponent in ligue1_top_10_teams:\n",
    "        ligue1_top_10_diff.append({'Team': team, 'Opponent': opponent, 'Result': result, 'Difference': diff})\n",
    "ligue1_top_10_diff_df = pd.DataFrame(ligue1_top_10_diff)\n",
    "#print(pl_top_10_diff_df)\n",
    "\n",
    "ligue1_regression = []\n",
    "for index, row in ligue1_top_10_diff_df.iterrows():\n",
    "    team = row['Team']\n",
    "    opponent = row['Opponent']\n",
    "    result = row['Difference'] * 0.0667096684508841 - 0.00016115953833044825\n",
    "    diff = row['Difference']\n",
    "    ligue1_regression.append({'Team': team, 'Opponent': opponent, 'Result': result, 'Difference': diff})\n",
    "ligue1_regression_df = pd.DataFrame(ligue1_regression)\n",
    "print(ligue1_regression_df)\n",
    "create_heatmap(ligue1_regression_df)"
   ]
  }
 ],
 "metadata": {
  "language_info": {
   "name": "python"
  }
 },
 "nbformat": 4,
 "nbformat_minor": 2
}
